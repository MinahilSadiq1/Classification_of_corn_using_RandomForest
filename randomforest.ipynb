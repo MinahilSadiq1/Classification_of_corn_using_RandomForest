{
  "nbformat": 4,
  "nbformat_minor": 0,
  "metadata": {
    "colab": {
      "provenance": [],
      "authorship_tag": "ABX9TyOlP5HoV81d7eD78Y34xwfv",
      "include_colab_link": true
    },
    "kernelspec": {
      "name": "python3",
      "display_name": "Python 3"
    },
    "language_info": {
      "name": "python"
    }
  },
  "cells": [
    {
      "cell_type": "markdown",
      "metadata": {
        "id": "view-in-github",
        "colab_type": "text"
      },
      "source": [
        "<a href=\"https://colab.research.google.com/github/MinahilSadiq1/Classification_of_corn_using_RandomForest/blob/main/randomforest.ipynb\" target=\"_parent\"><img src=\"https://colab.research.google.com/assets/colab-badge.svg\" alt=\"Open In Colab\"/></a>"
      ]
    },
    {
      "cell_type": "code",
      "execution_count": 1,
      "metadata": {
        "colab": {
          "base_uri": "https://localhost:8080/"
        },
        "id": "NhThT2XTrydi",
        "outputId": "fb483904-754a-44ee-993a-c164be1270f2"
      },
      "outputs": [
        {
          "output_type": "stream",
          "name": "stdout",
          "text": [
            "Installing collected packages: jedi\n",
            "Successfully installed jedi-0.19.1\n"
          ]
        }
      ],
      "source": [
        "!pip install geemap"
      ]
    },
    {
      "cell_type": "code",
      "source": [
        "import geemap\n",
        "import folium"
      ],
      "metadata": {
        "id": "RM3k7XoDr2fb"
      },
      "execution_count": 2,
      "outputs": []
    },
    {
      "cell_type": "code",
      "source": [
        "import ee\n",
        "ee.Authenticate()\n",
        "ee.Initialize()"
      ],
      "metadata": {
        "id": "Xh0TjCyNr5g5"
      },
      "execution_count": null,
      "outputs": []
    },
    {
      "cell_type": "code",
      "source": [
        "#loading sentinel 2\n",
        "sentinel2 = ee.ImageCollection(\"COPERNICUS/S2_SR\")\n",
        "#district boundaries\n",
        "district_boundary_table = ee.FeatureCollection(\"projects/ee-sp20-bcs-023/assets/boundaries_file-polygon\")\n",
        "#this boundaries_file-polygon creates boundaries for all over the pakistan map.\n",
        "#alpha farm fields\n",
        "corn_map = ee.FeatureCollection(\"projects/ee-sp20-bcs-023/assets/AlfaFarmsMaizeLand\")\n",
        "#AlfaFarmsMaizeLand is a dataset of corn area\n",
        "# Load the corn and other feature collections\n",
        "corn = ee.FeatureCollection(\"projects/ee-sp20-bcs-023/assets/alpha_corn\")\n",
        "other = ee.FeatureCollection(\"projects/ee-sp20-bcs-023/assets/classified_noncorn\")"
      ],
      "metadata": {
        "colab": {
          "base_uri": "https://localhost:8080/",
          "height": 17
        },
        "id": "Itt6yklBsCBq",
        "outputId": "5fff78e6-a35b-4215-97d8-c89983ac2e9b"
      },
      "execution_count": 4,
      "outputs": [
        {
          "output_type": "display_data",
          "data": {
            "text/plain": [
              "<IPython.core.display.HTML object>"
            ],
            "text/html": [
              "\n",
              "            <style>\n",
              "                .geemap-dark {\n",
              "                    --jp-widgets-color: white;\n",
              "                    --jp-widgets-label-color: white;\n",
              "                    --jp-ui-font-color1: white;\n",
              "                    --jp-layout-color2: #454545;\n",
              "                    background-color: #383838;\n",
              "                }\n",
              "                    \n",
              "                .geemap-dark .jupyter-button {\n",
              "                    --jp-layout-color3: #383838;\n",
              "                }\n",
              "                \n",
              "                .geemap-colab {\n",
              "                    background-color: var(--colab-primary-surface-color, white);\n",
              "                }\n",
              "                    \n",
              "                .geemap-colab .jupyter-button {\n",
              "                    --jp-layout-color3: var(--colab-primary-surface-color, white);\n",
              "                }\n",
              "            </style>\n",
              "            "
            ]
          },
          "metadata": {}
        }
      ]
    },
    {
      "cell_type": "code",
      "source": [
        "# Define the region of interest .. KASUR\n",
        "district_boundary = district_boundary_table.filter(ee.Filter.eq('DISTRICT', 'KASUR')).geometry()\n",
        "gt = corn.merge(other)"
      ],
      "metadata": {
        "colab": {
          "base_uri": "https://localhost:8080/",
          "height": 17
        },
        "id": "8eyqTI1ssLO_",
        "outputId": "ba377ede-3c6f-4483-ffb5-1bccca011f63"
      },
      "execution_count": 5,
      "outputs": [
        {
          "output_type": "display_data",
          "data": {
            "text/plain": [
              "<IPython.core.display.HTML object>"
            ],
            "text/html": [
              "\n",
              "            <style>\n",
              "                .geemap-dark {\n",
              "                    --jp-widgets-color: white;\n",
              "                    --jp-widgets-label-color: white;\n",
              "                    --jp-ui-font-color1: white;\n",
              "                    --jp-layout-color2: #454545;\n",
              "                    background-color: #383838;\n",
              "                }\n",
              "                    \n",
              "                .geemap-dark .jupyter-button {\n",
              "                    --jp-layout-color3: #383838;\n",
              "                }\n",
              "                \n",
              "                .geemap-colab {\n",
              "                    background-color: var(--colab-primary-surface-color, white);\n",
              "                }\n",
              "                    \n",
              "                .geemap-colab .jupyter-button {\n",
              "                    --jp-layout-color3: var(--colab-primary-surface-color, white);\n",
              "                }\n",
              "            </style>\n",
              "            "
            ]
          },
          "metadata": {}
        }
      ]
    },
    {
      "cell_type": "code",
      "source": [
        "def addNDVIBand(image):\n",
        "  # calculate NDVI for input images using B8(Near Infrared) and B4(RED) bands\n",
        "    ndvi = image.normalizedDifference(['B8', 'B4']).rename('NDVI')\n",
        "    # Green Normalized Difference Vegetation Index using band B8 and B3(Green)\n",
        "    gndvi = image.normalizedDifference(['B8', 'B3']).rename('GNDVI')\n",
        "    #Enhanced Vegetation Index using B8, B4, B2(BLUE)\n",
        "    evi = image.expression(\n",
        "        '2.5 * ((NIR - RED) / (NIR + 6 * RED - 7.5 * BLUE + 1))',\n",
        "        {\n",
        "            'NIR': image.select('B8'),\n",
        "            'RED': image.select('B4'),\n",
        "            'BLUE': image.select('B2')\n",
        "        }\n",
        "    ).rename('EVI')\n",
        "    #returning original image with three bands\n",
        "    return image.addBands([ndvi, gndvi, evi])\n",
        "\n"
      ],
      "metadata": {
        "colab": {
          "base_uri": "https://localhost:8080/",
          "height": 17
        },
        "id": "Gicbpf4PsMmN",
        "outputId": "95618b48-09cd-465d-fd84-3c52758c699d"
      },
      "execution_count": 6,
      "outputs": [
        {
          "output_type": "display_data",
          "data": {
            "text/plain": [
              "<IPython.core.display.HTML object>"
            ],
            "text/html": [
              "\n",
              "            <style>\n",
              "                .geemap-dark {\n",
              "                    --jp-widgets-color: white;\n",
              "                    --jp-widgets-label-color: white;\n",
              "                    --jp-ui-font-color1: white;\n",
              "                    --jp-layout-color2: #454545;\n",
              "                    background-color: #383838;\n",
              "                }\n",
              "                    \n",
              "                .geemap-dark .jupyter-button {\n",
              "                    --jp-layout-color3: #383838;\n",
              "                }\n",
              "                \n",
              "                .geemap-colab {\n",
              "                    background-color: var(--colab-primary-surface-color, white);\n",
              "                }\n",
              "                    \n",
              "                .geemap-colab .jupyter-button {\n",
              "                    --jp-layout-color3: var(--colab-primary-surface-color, white);\n",
              "                }\n",
              "            </style>\n",
              "            "
            ]
          },
          "metadata": {}
        }
      ]
    },
    {
      "cell_type": "code",
      "source": [
        "#collection dates 01-01-2023 to 01-06-2023\n",
        "collection_dates = ['2023-01-01','2023-01-15','2023-02-01','2023-02-15','2023-03-01','2023-03-15','2023-04-01','2023-04-15','2023-05-01','2023-05-15','2023-06-01']"
      ],
      "metadata": {
        "colab": {
          "base_uri": "https://localhost:8080/",
          "height": 17
        },
        "id": "GcA5bmsqsQD6",
        "outputId": "cbb304cc-7056-4553-b5fc-e8b15ab87871"
      },
      "execution_count": 7,
      "outputs": [
        {
          "output_type": "display_data",
          "data": {
            "text/plain": [
              "<IPython.core.display.HTML object>"
            ],
            "text/html": [
              "\n",
              "            <style>\n",
              "                .geemap-dark {\n",
              "                    --jp-widgets-color: white;\n",
              "                    --jp-widgets-label-color: white;\n",
              "                    --jp-ui-font-color1: white;\n",
              "                    --jp-layout-color2: #454545;\n",
              "                    background-color: #383838;\n",
              "                }\n",
              "                    \n",
              "                .geemap-dark .jupyter-button {\n",
              "                    --jp-layout-color3: #383838;\n",
              "                }\n",
              "                \n",
              "                .geemap-colab {\n",
              "                    background-color: var(--colab-primary-surface-color, white);\n",
              "                }\n",
              "                    \n",
              "                .geemap-colab .jupyter-button {\n",
              "                    --jp-layout-color3: var(--colab-primary-surface-color, white);\n",
              "                }\n",
              "            </style>\n",
              "            "
            ]
          },
          "metadata": {}
        }
      ]
    },
    {
      "cell_type": "code",
      "source": [
        "#an empty list\n",
        "feature_data = []\n",
        "#loop iterates from 0 to one lesss than collection dates\n",
        "for i in range(0, len(collection_dates)-1):\n",
        "    print(i)\n",
        "\n",
        "    #start and end date for specific time periods\n",
        "    start_date = collection_dates[i]\n",
        "    end_date = collection_dates[i+1]\n",
        "\n",
        "    #counter variable used to assign unique variable\n",
        "    point_id_counter = 1\n",
        "\n",
        "    #filtering image collection that fall whithin specific time period and boundary defined\n",
        "    collection = sentinel2.filterDate(start_date, end_date).filterBounds(district_boundary)\n",
        "\n",
        "    #calculating vegetation indecis for eaxh image\n",
        "    collection = collection.map(addNDVIBand)\n",
        "\n",
        "    #calculates the median value for each band across all images & selecting specific bands\n",
        "    #of interest, including Sentinel-2 spectral bands and (NDVI, EVI, GNDVI)\n",
        "    collection_image = collection.median().select(['B1', 'B2', 'B3', 'B4', 'B5', 'B6', 'B7', 'B8', 'B9', 'B11', 'B12', 'NDVI', 'EVI', 'GNDVI'])\n",
        "\n",
        "    #extracting features for analysis , at the scale of 10 meters\n",
        "    extracted_features = collection_image.sampleRegions(\n",
        "    collection = gt,\n",
        "    properties = ['class'],\n",
        "    scale=10\n",
        "    )\n",
        "\n",
        "    #creating new feature collection containing label property copied from class\n",
        "    featureCollection = extracted_features.map(lambda feature: ee.Feature(None, {'label': feature.get('class')}).copyProperties(feature))\n",
        "\n",
        "    # Calculate the total number of features in the FeatureCollection\n",
        "    total_count = extracted_features.size().getInfo()\n",
        "    print(\"total counts are: \", total_count)\n",
        "\n",
        "    # Calculate the number of features in each split\n",
        "    split_count = int(total_count / 10)\n",
        "\n",
        "    # Create a list to store the splits\n",
        "    splits = []\n",
        "\n",
        "    # Iterate over 10 partitions\n",
        "    for i in range(1, 11):\n",
        "        # Calculate the starting and ending index for each split\n",
        "        start_index = (i - 1) * split_count\n",
        "        end_index = i * split_count;\n",
        "        # print(\"start index are: \",start_index);\n",
        "        # print(\"end are: \",end_index);\n",
        "\n",
        "        # Filter the FeatureCollection to get the current split, to get the list format\n",
        "        split = extracted_features.toList(split_count, start_index)\n",
        "        splits.append(split);\n",
        "\n",
        "    print(\"----------------Date: \",start_date,\"-----------------\");\n",
        "\n",
        "    for split in splits:\n",
        "      #getInfo used to convert to the python list\n",
        "      # .getInfo() method retrieves the information from the Earth Engine object and makes it\n",
        "      # available for Python-native processing\n",
        "        split_list = split.getInfo()\n",
        "        for data in split_list:\n",
        "          # 'data' is a single feature in split\n",
        "            dictionary = data['properties']\n",
        "            dictionary['Date'] = start_date\n",
        "            dictionary['Point ID'] = point_id_counter\n",
        "            # print(\"dict:\", dictionary)\n",
        "            feature_data.append(dictionary)\n",
        "            point_id_counter = point_id_counter + 1\n",
        "\n",
        "\n",
        "    print(\"At the end, Point ID is: \",point_id_counter)\n",
        "    # In essence, this code processes the features in each split, enriches\n",
        "    # them with additional attributes (Date and Point ID), and collects them into a list (feature_data) for further use.\n"
      ],
      "metadata": {
        "id": "iUhCTCzVsYxn"
      },
      "execution_count": null,
      "outputs": []
    },
    {
      "cell_type": "code",
      "source": [
        "#extracted features\n",
        "feature_data"
      ],
      "metadata": {
        "id": "SAYmQWl4sY62"
      },
      "execution_count": null,
      "outputs": []
    },
    {
      "cell_type": "code",
      "source": [
        "#creating csv file from above features\n",
        "import csv\n",
        "\n",
        "# Specify the CSV file name\n",
        "csv_file = 'data_features.csv'\n",
        "\n",
        "# Extract the keys from the first dictionary to use as column headers\n",
        "fieldnames = feature_data[0].keys()\n",
        "\n",
        "# Write the data to the CSV file\n",
        "with open(csv_file, 'w', newline='') as csvfile:\n",
        "    writer = csv.DictWriter(csvfile, fieldnames=fieldnames)\n",
        "\n",
        "    # Write the header row\n",
        "    writer.writeheader()\n",
        "\n",
        "    # writes each dictionary row as a row in the CSV file, with values corresponding to the column headers.\n",
        "    for row in feature_data:\n",
        "        writer.writerow(row)\n",
        "\n",
        "print(f'CSV file \"{csv_file}\" has been created.')\n"
      ],
      "metadata": {
        "colab": {
          "base_uri": "https://localhost:8080/",
          "height": 35
        },
        "id": "JMpGAGPjshIR",
        "outputId": "7c7e72d9-b0ea-4e52-8aa2-008c1387e1ac"
      },
      "execution_count": 10,
      "outputs": [
        {
          "output_type": "display_data",
          "data": {
            "text/plain": [
              "<IPython.core.display.HTML object>"
            ],
            "text/html": [
              "\n",
              "            <style>\n",
              "                .geemap-dark {\n",
              "                    --jp-widgets-color: white;\n",
              "                    --jp-widgets-label-color: white;\n",
              "                    --jp-ui-font-color1: white;\n",
              "                    --jp-layout-color2: #454545;\n",
              "                    background-color: #383838;\n",
              "                }\n",
              "                    \n",
              "                .geemap-dark .jupyter-button {\n",
              "                    --jp-layout-color3: #383838;\n",
              "                }\n",
              "                \n",
              "                .geemap-colab {\n",
              "                    background-color: var(--colab-primary-surface-color, white);\n",
              "                }\n",
              "                    \n",
              "                .geemap-colab .jupyter-button {\n",
              "                    --jp-layout-color3: var(--colab-primary-surface-color, white);\n",
              "                }\n",
              "            </style>\n",
              "            "
            ]
          },
          "metadata": {}
        },
        {
          "output_type": "stream",
          "name": "stdout",
          "text": [
            "CSV file \"data_features.csv\" has been created.\n"
          ]
        }
      ]
    },
    {
      "cell_type": "code",
      "source": [
        "# importing required libraries\n",
        "import pandas as pd\n",
        "import numpy as np\n",
        "from keras.models import Sequential\n",
        "from sklearn.ensemble import RandomForestClassifier\n",
        "from sklearn.preprocessing import StandardScaler\n",
        "from sklearn.model_selection import train_test_split\n",
        "\n",
        "#reading a file\n",
        "data = pd.read_csv('data_features.csv')"
      ],
      "metadata": {
        "colab": {
          "base_uri": "https://localhost:8080/",
          "height": 17
        },
        "id": "OdMrtTvEso2q",
        "outputId": "af84e487-517e-40eb-b46b-71cb91128ef4"
      },
      "execution_count": 11,
      "outputs": [
        {
          "output_type": "display_data",
          "data": {
            "text/plain": [
              "<IPython.core.display.HTML object>"
            ],
            "text/html": [
              "\n",
              "            <style>\n",
              "                .geemap-dark {\n",
              "                    --jp-widgets-color: white;\n",
              "                    --jp-widgets-label-color: white;\n",
              "                    --jp-ui-font-color1: white;\n",
              "                    --jp-layout-color2: #454545;\n",
              "                    background-color: #383838;\n",
              "                }\n",
              "                    \n",
              "                .geemap-dark .jupyter-button {\n",
              "                    --jp-layout-color3: #383838;\n",
              "                }\n",
              "                \n",
              "                .geemap-colab {\n",
              "                    background-color: var(--colab-primary-surface-color, white);\n",
              "                }\n",
              "                    \n",
              "                .geemap-colab .jupyter-button {\n",
              "                    --jp-layout-color3: var(--colab-primary-surface-color, white);\n",
              "                }\n",
              "            </style>\n",
              "            "
            ]
          },
          "metadata": {}
        }
      ]
    },
    {
      "cell_type": "code",
      "source": [
        "# 1. Preprocessing of data\n",
        "# Converting \"Date\" to proper date format\n",
        "data['Date'] = pd.to_datetime(data['Date'])\n"
      ],
      "metadata": {
        "colab": {
          "base_uri": "https://localhost:8080/",
          "height": 17
        },
        "id": "oBETSe3-stdp",
        "outputId": "2ef7ba31-4de6-475c-b33c-0437999728da"
      },
      "execution_count": 12,
      "outputs": [
        {
          "output_type": "display_data",
          "data": {
            "text/plain": [
              "<IPython.core.display.HTML object>"
            ],
            "text/html": [
              "\n",
              "            <style>\n",
              "                .geemap-dark {\n",
              "                    --jp-widgets-color: white;\n",
              "                    --jp-widgets-label-color: white;\n",
              "                    --jp-ui-font-color1: white;\n",
              "                    --jp-layout-color2: #454545;\n",
              "                    background-color: #383838;\n",
              "                }\n",
              "                    \n",
              "                .geemap-dark .jupyter-button {\n",
              "                    --jp-layout-color3: #383838;\n",
              "                }\n",
              "                \n",
              "                .geemap-colab {\n",
              "                    background-color: var(--colab-primary-surface-color, white);\n",
              "                }\n",
              "                    \n",
              "                .geemap-colab .jupyter-button {\n",
              "                    --jp-layout-color3: var(--colab-primary-surface-color, white);\n",
              "                }\n",
              "            </style>\n",
              "            "
            ]
          },
          "metadata": {}
        }
      ]
    },
    {
      "cell_type": "code",
      "source": [
        "#index column \"date\"\n",
        "data.index = data.pop('Date')"
      ],
      "metadata": {
        "colab": {
          "base_uri": "https://localhost:8080/",
          "height": 17
        },
        "id": "7deFpeHksxHN",
        "outputId": "1a9249dd-6c85-41e5-c26b-8d685f516187"
      },
      "execution_count": 13,
      "outputs": [
        {
          "output_type": "display_data",
          "data": {
            "text/plain": [
              "<IPython.core.display.HTML object>"
            ],
            "text/html": [
              "\n",
              "            <style>\n",
              "                .geemap-dark {\n",
              "                    --jp-widgets-color: white;\n",
              "                    --jp-widgets-label-color: white;\n",
              "                    --jp-ui-font-color1: white;\n",
              "                    --jp-layout-color2: #454545;\n",
              "                    background-color: #383838;\n",
              "                }\n",
              "                    \n",
              "                .geemap-dark .jupyter-button {\n",
              "                    --jp-layout-color3: #383838;\n",
              "                }\n",
              "                \n",
              "                .geemap-colab {\n",
              "                    background-color: var(--colab-primary-surface-color, white);\n",
              "                }\n",
              "                    \n",
              "                .geemap-colab .jupyter-button {\n",
              "                    --jp-layout-color3: var(--colab-primary-surface-color, white);\n",
              "                }\n",
              "            </style>\n",
              "            "
            ]
          },
          "metadata": {}
        }
      ]
    },
    {
      "cell_type": "code",
      "source": [
        "data"
      ],
      "metadata": {
        "colab": {
          "base_uri": "https://localhost:8080/",
          "height": 455
        },
        "id": "nFDA_2otsz9c",
        "outputId": "a7bb8187-139e-4f53-f198-c0970526fdaf"
      },
      "execution_count": 14,
      "outputs": [
        {
          "output_type": "display_data",
          "data": {
            "text/plain": [
              "<IPython.core.display.HTML object>"
            ],
            "text/html": [
              "\n",
              "            <style>\n",
              "                .geemap-dark {\n",
              "                    --jp-widgets-color: white;\n",
              "                    --jp-widgets-label-color: white;\n",
              "                    --jp-ui-font-color1: white;\n",
              "                    --jp-layout-color2: #454545;\n",
              "                    background-color: #383838;\n",
              "                }\n",
              "                    \n",
              "                .geemap-dark .jupyter-button {\n",
              "                    --jp-layout-color3: #383838;\n",
              "                }\n",
              "                \n",
              "                .geemap-colab {\n",
              "                    background-color: var(--colab-primary-surface-color, white);\n",
              "                }\n",
              "                    \n",
              "                .geemap-colab .jupyter-button {\n",
              "                    --jp-layout-color3: var(--colab-primary-surface-color, white);\n",
              "                }\n",
              "            </style>\n",
              "            "
            ]
          },
          "metadata": {}
        },
        {
          "output_type": "execute_result",
          "data": {
            "text/plain": [
              "                B1     B11     B12      B2      B3      B4      B5      B6  \\\n",
              "Date                                                                         \n",
              "2023-01-01  6217.0  5793.0  4852.0  5620.0  5728.0  5916.0  6199.0  6346.0   \n",
              "2023-01-01  6217.0  5793.0  4852.0  5609.0  5624.0  5792.0  6199.0  6346.0   \n",
              "2023-01-01  6217.0  5734.0  4764.0  5664.0  5628.0  5768.0  6161.0  6280.0   \n",
              "2023-01-01  6217.0  5734.0  4764.0  5584.0  5676.0  5812.0  6161.0  6280.0   \n",
              "2023-01-01  6050.0  5947.0  4956.0  5936.0  5876.0  6128.0  6555.0  6642.0   \n",
              "...            ...     ...     ...     ...     ...     ...     ...     ...   \n",
              "2023-05-15  1750.0  4384.0  3912.0  2158.0  2622.0  2942.0  3270.0  3665.0   \n",
              "2023-05-15  1750.0  4669.0  4239.0  2312.0  2752.0  3160.0  3436.0  3782.0   \n",
              "2023-05-15  1750.0  4669.0  4239.0  2312.0  2752.0  3160.0  3436.0  3782.0   \n",
              "2023-05-15  1750.0  4669.0  4239.0  2258.0  2640.0  3044.0  3436.0  3782.0   \n",
              "2023-05-15  1471.0  4571.0  4074.0  2224.0  2594.0  2964.0  3388.0  3710.0   \n",
              "\n",
              "                B7      B8      B9       EVI     GNDVI      NDVI  class  \\\n",
              "Date                                                                      \n",
              "2023-01-01  6341.0  6416.0  6864.0 -2.062857  0.056653  0.040545      1   \n",
              "2023-01-01  6341.0  6260.0  6864.0 -1.109531  0.053517  0.038832      1   \n",
              "2023-01-01  6301.0  6396.0  6864.0 -1.064407  0.063872  0.051628      1   \n",
              "2023-01-01  6301.0  6448.0  6864.0 -0.814460  0.063675  0.051876      1   \n",
              "2023-01-01  6563.0  6640.0  6886.0 -0.901933  0.061042  0.040100      1   \n",
              "...            ...     ...     ...       ...       ...       ...    ...   \n",
              "2023-05-15  3952.0  4020.0  3924.0  0.587702  0.215603  0.165390      0   \n",
              "2023-05-15  4044.0  4116.0  3924.0  0.461760  0.198602  0.138979      0   \n",
              "2023-05-15  4044.0  4116.0  3924.0  0.461760  0.198602  0.138979      0   \n",
              "2023-05-15  4044.0  4021.0  3924.0  0.416239  0.201982  0.133902      0   \n",
              "2023-05-15  3947.0  3951.0  4201.0  0.422548  0.199752  0.133080      0   \n",
              "\n",
              "            Point ID  \n",
              "Date                  \n",
              "2023-01-01         1  \n",
              "2023-01-01         2  \n",
              "2023-01-01         3  \n",
              "2023-01-01         4  \n",
              "2023-01-01         5  \n",
              "...              ...  \n",
              "2023-05-15     10646  \n",
              "2023-05-15     10647  \n",
              "2023-05-15     10648  \n",
              "2023-05-15     10649  \n",
              "2023-05-15     10650  \n",
              "\n",
              "[106500 rows x 16 columns]"
            ],
            "text/html": [
              "\n",
              "  <div id=\"df-8fb93e2f-5c47-4a84-8c00-10015bb80312\" class=\"colab-df-container\">\n",
              "    <div>\n",
              "<style scoped>\n",
              "    .dataframe tbody tr th:only-of-type {\n",
              "        vertical-align: middle;\n",
              "    }\n",
              "\n",
              "    .dataframe tbody tr th {\n",
              "        vertical-align: top;\n",
              "    }\n",
              "\n",
              "    .dataframe thead th {\n",
              "        text-align: right;\n",
              "    }\n",
              "</style>\n",
              "<table border=\"1\" class=\"dataframe\">\n",
              "  <thead>\n",
              "    <tr style=\"text-align: right;\">\n",
              "      <th></th>\n",
              "      <th>B1</th>\n",
              "      <th>B11</th>\n",
              "      <th>B12</th>\n",
              "      <th>B2</th>\n",
              "      <th>B3</th>\n",
              "      <th>B4</th>\n",
              "      <th>B5</th>\n",
              "      <th>B6</th>\n",
              "      <th>B7</th>\n",
              "      <th>B8</th>\n",
              "      <th>B9</th>\n",
              "      <th>EVI</th>\n",
              "      <th>GNDVI</th>\n",
              "      <th>NDVI</th>\n",
              "      <th>class</th>\n",
              "      <th>Point ID</th>\n",
              "    </tr>\n",
              "    <tr>\n",
              "      <th>Date</th>\n",
              "      <th></th>\n",
              "      <th></th>\n",
              "      <th></th>\n",
              "      <th></th>\n",
              "      <th></th>\n",
              "      <th></th>\n",
              "      <th></th>\n",
              "      <th></th>\n",
              "      <th></th>\n",
              "      <th></th>\n",
              "      <th></th>\n",
              "      <th></th>\n",
              "      <th></th>\n",
              "      <th></th>\n",
              "      <th></th>\n",
              "      <th></th>\n",
              "    </tr>\n",
              "  </thead>\n",
              "  <tbody>\n",
              "    <tr>\n",
              "      <th>2023-01-01</th>\n",
              "      <td>6217.0</td>\n",
              "      <td>5793.0</td>\n",
              "      <td>4852.0</td>\n",
              "      <td>5620.0</td>\n",
              "      <td>5728.0</td>\n",
              "      <td>5916.0</td>\n",
              "      <td>6199.0</td>\n",
              "      <td>6346.0</td>\n",
              "      <td>6341.0</td>\n",
              "      <td>6416.0</td>\n",
              "      <td>6864.0</td>\n",
              "      <td>-2.062857</td>\n",
              "      <td>0.056653</td>\n",
              "      <td>0.040545</td>\n",
              "      <td>1</td>\n",
              "      <td>1</td>\n",
              "    </tr>\n",
              "    <tr>\n",
              "      <th>2023-01-01</th>\n",
              "      <td>6217.0</td>\n",
              "      <td>5793.0</td>\n",
              "      <td>4852.0</td>\n",
              "      <td>5609.0</td>\n",
              "      <td>5624.0</td>\n",
              "      <td>5792.0</td>\n",
              "      <td>6199.0</td>\n",
              "      <td>6346.0</td>\n",
              "      <td>6341.0</td>\n",
              "      <td>6260.0</td>\n",
              "      <td>6864.0</td>\n",
              "      <td>-1.109531</td>\n",
              "      <td>0.053517</td>\n",
              "      <td>0.038832</td>\n",
              "      <td>1</td>\n",
              "      <td>2</td>\n",
              "    </tr>\n",
              "    <tr>\n",
              "      <th>2023-01-01</th>\n",
              "      <td>6217.0</td>\n",
              "      <td>5734.0</td>\n",
              "      <td>4764.0</td>\n",
              "      <td>5664.0</td>\n",
              "      <td>5628.0</td>\n",
              "      <td>5768.0</td>\n",
              "      <td>6161.0</td>\n",
              "      <td>6280.0</td>\n",
              "      <td>6301.0</td>\n",
              "      <td>6396.0</td>\n",
              "      <td>6864.0</td>\n",
              "      <td>-1.064407</td>\n",
              "      <td>0.063872</td>\n",
              "      <td>0.051628</td>\n",
              "      <td>1</td>\n",
              "      <td>3</td>\n",
              "    </tr>\n",
              "    <tr>\n",
              "      <th>2023-01-01</th>\n",
              "      <td>6217.0</td>\n",
              "      <td>5734.0</td>\n",
              "      <td>4764.0</td>\n",
              "      <td>5584.0</td>\n",
              "      <td>5676.0</td>\n",
              "      <td>5812.0</td>\n",
              "      <td>6161.0</td>\n",
              "      <td>6280.0</td>\n",
              "      <td>6301.0</td>\n",
              "      <td>6448.0</td>\n",
              "      <td>6864.0</td>\n",
              "      <td>-0.814460</td>\n",
              "      <td>0.063675</td>\n",
              "      <td>0.051876</td>\n",
              "      <td>1</td>\n",
              "      <td>4</td>\n",
              "    </tr>\n",
              "    <tr>\n",
              "      <th>2023-01-01</th>\n",
              "      <td>6050.0</td>\n",
              "      <td>5947.0</td>\n",
              "      <td>4956.0</td>\n",
              "      <td>5936.0</td>\n",
              "      <td>5876.0</td>\n",
              "      <td>6128.0</td>\n",
              "      <td>6555.0</td>\n",
              "      <td>6642.0</td>\n",
              "      <td>6563.0</td>\n",
              "      <td>6640.0</td>\n",
              "      <td>6886.0</td>\n",
              "      <td>-0.901933</td>\n",
              "      <td>0.061042</td>\n",
              "      <td>0.040100</td>\n",
              "      <td>1</td>\n",
              "      <td>5</td>\n",
              "    </tr>\n",
              "    <tr>\n",
              "      <th>...</th>\n",
              "      <td>...</td>\n",
              "      <td>...</td>\n",
              "      <td>...</td>\n",
              "      <td>...</td>\n",
              "      <td>...</td>\n",
              "      <td>...</td>\n",
              "      <td>...</td>\n",
              "      <td>...</td>\n",
              "      <td>...</td>\n",
              "      <td>...</td>\n",
              "      <td>...</td>\n",
              "      <td>...</td>\n",
              "      <td>...</td>\n",
              "      <td>...</td>\n",
              "      <td>...</td>\n",
              "      <td>...</td>\n",
              "    </tr>\n",
              "    <tr>\n",
              "      <th>2023-05-15</th>\n",
              "      <td>1750.0</td>\n",
              "      <td>4384.0</td>\n",
              "      <td>3912.0</td>\n",
              "      <td>2158.0</td>\n",
              "      <td>2622.0</td>\n",
              "      <td>2942.0</td>\n",
              "      <td>3270.0</td>\n",
              "      <td>3665.0</td>\n",
              "      <td>3952.0</td>\n",
              "      <td>4020.0</td>\n",
              "      <td>3924.0</td>\n",
              "      <td>0.587702</td>\n",
              "      <td>0.215603</td>\n",
              "      <td>0.165390</td>\n",
              "      <td>0</td>\n",
              "      <td>10646</td>\n",
              "    </tr>\n",
              "    <tr>\n",
              "      <th>2023-05-15</th>\n",
              "      <td>1750.0</td>\n",
              "      <td>4669.0</td>\n",
              "      <td>4239.0</td>\n",
              "      <td>2312.0</td>\n",
              "      <td>2752.0</td>\n",
              "      <td>3160.0</td>\n",
              "      <td>3436.0</td>\n",
              "      <td>3782.0</td>\n",
              "      <td>4044.0</td>\n",
              "      <td>4116.0</td>\n",
              "      <td>3924.0</td>\n",
              "      <td>0.461760</td>\n",
              "      <td>0.198602</td>\n",
              "      <td>0.138979</td>\n",
              "      <td>0</td>\n",
              "      <td>10647</td>\n",
              "    </tr>\n",
              "    <tr>\n",
              "      <th>2023-05-15</th>\n",
              "      <td>1750.0</td>\n",
              "      <td>4669.0</td>\n",
              "      <td>4239.0</td>\n",
              "      <td>2312.0</td>\n",
              "      <td>2752.0</td>\n",
              "      <td>3160.0</td>\n",
              "      <td>3436.0</td>\n",
              "      <td>3782.0</td>\n",
              "      <td>4044.0</td>\n",
              "      <td>4116.0</td>\n",
              "      <td>3924.0</td>\n",
              "      <td>0.461760</td>\n",
              "      <td>0.198602</td>\n",
              "      <td>0.138979</td>\n",
              "      <td>0</td>\n",
              "      <td>10648</td>\n",
              "    </tr>\n",
              "    <tr>\n",
              "      <th>2023-05-15</th>\n",
              "      <td>1750.0</td>\n",
              "      <td>4669.0</td>\n",
              "      <td>4239.0</td>\n",
              "      <td>2258.0</td>\n",
              "      <td>2640.0</td>\n",
              "      <td>3044.0</td>\n",
              "      <td>3436.0</td>\n",
              "      <td>3782.0</td>\n",
              "      <td>4044.0</td>\n",
              "      <td>4021.0</td>\n",
              "      <td>3924.0</td>\n",
              "      <td>0.416239</td>\n",
              "      <td>0.201982</td>\n",
              "      <td>0.133902</td>\n",
              "      <td>0</td>\n",
              "      <td>10649</td>\n",
              "    </tr>\n",
              "    <tr>\n",
              "      <th>2023-05-15</th>\n",
              "      <td>1471.0</td>\n",
              "      <td>4571.0</td>\n",
              "      <td>4074.0</td>\n",
              "      <td>2224.0</td>\n",
              "      <td>2594.0</td>\n",
              "      <td>2964.0</td>\n",
              "      <td>3388.0</td>\n",
              "      <td>3710.0</td>\n",
              "      <td>3947.0</td>\n",
              "      <td>3951.0</td>\n",
              "      <td>4201.0</td>\n",
              "      <td>0.422548</td>\n",
              "      <td>0.199752</td>\n",
              "      <td>0.133080</td>\n",
              "      <td>0</td>\n",
              "      <td>10650</td>\n",
              "    </tr>\n",
              "  </tbody>\n",
              "</table>\n",
              "<p>106500 rows × 16 columns</p>\n",
              "</div>\n",
              "    <div class=\"colab-df-buttons\">\n",
              "\n",
              "  <div class=\"colab-df-container\">\n",
              "    <button class=\"colab-df-convert\" onclick=\"convertToInteractive('df-8fb93e2f-5c47-4a84-8c00-10015bb80312')\"\n",
              "            title=\"Convert this dataframe to an interactive table.\"\n",
              "            style=\"display:none;\">\n",
              "\n",
              "  <svg xmlns=\"http://www.w3.org/2000/svg\" height=\"24px\" viewBox=\"0 -960 960 960\">\n",
              "    <path d=\"M120-120v-720h720v720H120Zm60-500h600v-160H180v160Zm220 220h160v-160H400v160Zm0 220h160v-160H400v160ZM180-400h160v-160H180v160Zm440 0h160v-160H620v160ZM180-180h160v-160H180v160Zm440 0h160v-160H620v160Z\"/>\n",
              "  </svg>\n",
              "    </button>\n",
              "\n",
              "  <style>\n",
              "    .colab-df-container {\n",
              "      display:flex;\n",
              "      gap: 12px;\n",
              "    }\n",
              "\n",
              "    .colab-df-convert {\n",
              "      background-color: #E8F0FE;\n",
              "      border: none;\n",
              "      border-radius: 50%;\n",
              "      cursor: pointer;\n",
              "      display: none;\n",
              "      fill: #1967D2;\n",
              "      height: 32px;\n",
              "      padding: 0 0 0 0;\n",
              "      width: 32px;\n",
              "    }\n",
              "\n",
              "    .colab-df-convert:hover {\n",
              "      background-color: #E2EBFA;\n",
              "      box-shadow: 0px 1px 2px rgba(60, 64, 67, 0.3), 0px 1px 3px 1px rgba(60, 64, 67, 0.15);\n",
              "      fill: #174EA6;\n",
              "    }\n",
              "\n",
              "    .colab-df-buttons div {\n",
              "      margin-bottom: 4px;\n",
              "    }\n",
              "\n",
              "    [theme=dark] .colab-df-convert {\n",
              "      background-color: #3B4455;\n",
              "      fill: #D2E3FC;\n",
              "    }\n",
              "\n",
              "    [theme=dark] .colab-df-convert:hover {\n",
              "      background-color: #434B5C;\n",
              "      box-shadow: 0px 1px 3px 1px rgba(0, 0, 0, 0.15);\n",
              "      filter: drop-shadow(0px 1px 2px rgba(0, 0, 0, 0.3));\n",
              "      fill: #FFFFFF;\n",
              "    }\n",
              "  </style>\n",
              "\n",
              "    <script>\n",
              "      const buttonEl =\n",
              "        document.querySelector('#df-8fb93e2f-5c47-4a84-8c00-10015bb80312 button.colab-df-convert');\n",
              "      buttonEl.style.display =\n",
              "        google.colab.kernel.accessAllowed ? 'block' : 'none';\n",
              "\n",
              "      async function convertToInteractive(key) {\n",
              "        const element = document.querySelector('#df-8fb93e2f-5c47-4a84-8c00-10015bb80312');\n",
              "        const dataTable =\n",
              "          await google.colab.kernel.invokeFunction('convertToInteractive',\n",
              "                                                    [key], {});\n",
              "        if (!dataTable) return;\n",
              "\n",
              "        const docLinkHtml = 'Like what you see? Visit the ' +\n",
              "          '<a target=\"_blank\" href=https://colab.research.google.com/notebooks/data_table.ipynb>data table notebook</a>'\n",
              "          + ' to learn more about interactive tables.';\n",
              "        element.innerHTML = '';\n",
              "        dataTable['output_type'] = 'display_data';\n",
              "        await google.colab.output.renderOutput(dataTable, element);\n",
              "        const docLink = document.createElement('div');\n",
              "        docLink.innerHTML = docLinkHtml;\n",
              "        element.appendChild(docLink);\n",
              "      }\n",
              "    </script>\n",
              "  </div>\n",
              "\n",
              "\n",
              "<div id=\"df-84d0194b-db3d-4ea9-b5b3-ad6d27f6d0fd\">\n",
              "  <button class=\"colab-df-quickchart\" onclick=\"quickchart('df-84d0194b-db3d-4ea9-b5b3-ad6d27f6d0fd')\"\n",
              "            title=\"Suggest charts.\"\n",
              "            style=\"display:none;\">\n",
              "\n",
              "<svg xmlns=\"http://www.w3.org/2000/svg\" height=\"24px\"viewBox=\"0 0 24 24\"\n",
              "     width=\"24px\">\n",
              "    <g>\n",
              "        <path d=\"M19 3H5c-1.1 0-2 .9-2 2v14c0 1.1.9 2 2 2h14c1.1 0 2-.9 2-2V5c0-1.1-.9-2-2-2zM9 17H7v-7h2v7zm4 0h-2V7h2v10zm4 0h-2v-4h2v4z\"/>\n",
              "    </g>\n",
              "</svg>\n",
              "  </button>\n",
              "\n",
              "<style>\n",
              "  .colab-df-quickchart {\n",
              "      --bg-color: #E8F0FE;\n",
              "      --fill-color: #1967D2;\n",
              "      --hover-bg-color: #E2EBFA;\n",
              "      --hover-fill-color: #174EA6;\n",
              "      --disabled-fill-color: #AAA;\n",
              "      --disabled-bg-color: #DDD;\n",
              "  }\n",
              "\n",
              "  [theme=dark] .colab-df-quickchart {\n",
              "      --bg-color: #3B4455;\n",
              "      --fill-color: #D2E3FC;\n",
              "      --hover-bg-color: #434B5C;\n",
              "      --hover-fill-color: #FFFFFF;\n",
              "      --disabled-bg-color: #3B4455;\n",
              "      --disabled-fill-color: #666;\n",
              "  }\n",
              "\n",
              "  .colab-df-quickchart {\n",
              "    background-color: var(--bg-color);\n",
              "    border: none;\n",
              "    border-radius: 50%;\n",
              "    cursor: pointer;\n",
              "    display: none;\n",
              "    fill: var(--fill-color);\n",
              "    height: 32px;\n",
              "    padding: 0;\n",
              "    width: 32px;\n",
              "  }\n",
              "\n",
              "  .colab-df-quickchart:hover {\n",
              "    background-color: var(--hover-bg-color);\n",
              "    box-shadow: 0 1px 2px rgba(60, 64, 67, 0.3), 0 1px 3px 1px rgba(60, 64, 67, 0.15);\n",
              "    fill: var(--button-hover-fill-color);\n",
              "  }\n",
              "\n",
              "  .colab-df-quickchart-complete:disabled,\n",
              "  .colab-df-quickchart-complete:disabled:hover {\n",
              "    background-color: var(--disabled-bg-color);\n",
              "    fill: var(--disabled-fill-color);\n",
              "    box-shadow: none;\n",
              "  }\n",
              "\n",
              "  .colab-df-spinner {\n",
              "    border: 2px solid var(--fill-color);\n",
              "    border-color: transparent;\n",
              "    border-bottom-color: var(--fill-color);\n",
              "    animation:\n",
              "      spin 1s steps(1) infinite;\n",
              "  }\n",
              "\n",
              "  @keyframes spin {\n",
              "    0% {\n",
              "      border-color: transparent;\n",
              "      border-bottom-color: var(--fill-color);\n",
              "      border-left-color: var(--fill-color);\n",
              "    }\n",
              "    20% {\n",
              "      border-color: transparent;\n",
              "      border-left-color: var(--fill-color);\n",
              "      border-top-color: var(--fill-color);\n",
              "    }\n",
              "    30% {\n",
              "      border-color: transparent;\n",
              "      border-left-color: var(--fill-color);\n",
              "      border-top-color: var(--fill-color);\n",
              "      border-right-color: var(--fill-color);\n",
              "    }\n",
              "    40% {\n",
              "      border-color: transparent;\n",
              "      border-right-color: var(--fill-color);\n",
              "      border-top-color: var(--fill-color);\n",
              "    }\n",
              "    60% {\n",
              "      border-color: transparent;\n",
              "      border-right-color: var(--fill-color);\n",
              "    }\n",
              "    80% {\n",
              "      border-color: transparent;\n",
              "      border-right-color: var(--fill-color);\n",
              "      border-bottom-color: var(--fill-color);\n",
              "    }\n",
              "    90% {\n",
              "      border-color: transparent;\n",
              "      border-bottom-color: var(--fill-color);\n",
              "    }\n",
              "  }\n",
              "</style>\n",
              "\n",
              "  <script>\n",
              "    async function quickchart(key) {\n",
              "      const quickchartButtonEl =\n",
              "        document.querySelector('#' + key + ' button');\n",
              "      quickchartButtonEl.disabled = true;  // To prevent multiple clicks.\n",
              "      quickchartButtonEl.classList.add('colab-df-spinner');\n",
              "      try {\n",
              "        const charts = await google.colab.kernel.invokeFunction(\n",
              "            'suggestCharts', [key], {});\n",
              "      } catch (error) {\n",
              "        console.error('Error during call to suggestCharts:', error);\n",
              "      }\n",
              "      quickchartButtonEl.classList.remove('colab-df-spinner');\n",
              "      quickchartButtonEl.classList.add('colab-df-quickchart-complete');\n",
              "    }\n",
              "    (() => {\n",
              "      let quickchartButtonEl =\n",
              "        document.querySelector('#df-84d0194b-db3d-4ea9-b5b3-ad6d27f6d0fd button');\n",
              "      quickchartButtonEl.style.display =\n",
              "        google.colab.kernel.accessAllowed ? 'block' : 'none';\n",
              "    })();\n",
              "  </script>\n",
              "</div>\n",
              "    </div>\n",
              "  </div>\n"
            ]
          },
          "metadata": {},
          "execution_count": 14
        }
      ]
    },
    {
      "cell_type": "code",
      "source": [
        "# Split data into features (X) and labels (y)\n",
        "X = data.drop(['class', 'Point ID'], axis=1).values\n",
        "y = data['class'].values\n",
        "\n",
        "\n",
        "# Split the data into training and testing sets\n",
        "X_train_rf, X_test_rf, y_train_rf, y_test_rf = train_test_split(X, y, test_size=0.2, random_state=42)\n",
        "\n",
        "# Standardize the features\n",
        "scaler = StandardScaler()\n",
        "X_train_rf = scaler.fit_transform(X_train_rf)\n",
        "X_test_rf = scaler.transform(X_test_rf)\n",
        "\n",
        "# Initialize and train Random Forest model\n",
        "rf_model = RandomForestClassifier(n_estimators=100, oob_score=True)\n",
        "rf_model.fit(X_train_rf, y_train_rf)"
      ],
      "metadata": {
        "colab": {
          "base_uri": "https://localhost:8080/",
          "height": 75
        },
        "id": "uDwMaAPfs3Cc",
        "outputId": "49c5f7fd-4eee-43ae-8fd2-325c4796c282"
      },
      "execution_count": 35,
      "outputs": [
        {
          "output_type": "display_data",
          "data": {
            "text/plain": [
              "<IPython.core.display.HTML object>"
            ],
            "text/html": [
              "\n",
              "            <style>\n",
              "                .geemap-dark {\n",
              "                    --jp-widgets-color: white;\n",
              "                    --jp-widgets-label-color: white;\n",
              "                    --jp-ui-font-color1: white;\n",
              "                    --jp-layout-color2: #454545;\n",
              "                    background-color: #383838;\n",
              "                }\n",
              "                    \n",
              "                .geemap-dark .jupyter-button {\n",
              "                    --jp-layout-color3: #383838;\n",
              "                }\n",
              "                \n",
              "                .geemap-colab {\n",
              "                    background-color: var(--colab-primary-surface-color, white);\n",
              "                }\n",
              "                    \n",
              "                .geemap-colab .jupyter-button {\n",
              "                    --jp-layout-color3: var(--colab-primary-surface-color, white);\n",
              "                }\n",
              "            </style>\n",
              "            "
            ]
          },
          "metadata": {}
        },
        {
          "output_type": "execute_result",
          "data": {
            "text/plain": [
              "RandomForestClassifier(oob_score=True)"
            ],
            "text/html": [
              "<style>#sk-container-id-2 {color: black;background-color: white;}#sk-container-id-2 pre{padding: 0;}#sk-container-id-2 div.sk-toggleable {background-color: white;}#sk-container-id-2 label.sk-toggleable__label {cursor: pointer;display: block;width: 100%;margin-bottom: 0;padding: 0.3em;box-sizing: border-box;text-align: center;}#sk-container-id-2 label.sk-toggleable__label-arrow:before {content: \"▸\";float: left;margin-right: 0.25em;color: #696969;}#sk-container-id-2 label.sk-toggleable__label-arrow:hover:before {color: black;}#sk-container-id-2 div.sk-estimator:hover label.sk-toggleable__label-arrow:before {color: black;}#sk-container-id-2 div.sk-toggleable__content {max-height: 0;max-width: 0;overflow: hidden;text-align: left;background-color: #f0f8ff;}#sk-container-id-2 div.sk-toggleable__content pre {margin: 0.2em;color: black;border-radius: 0.25em;background-color: #f0f8ff;}#sk-container-id-2 input.sk-toggleable__control:checked~div.sk-toggleable__content {max-height: 200px;max-width: 100%;overflow: auto;}#sk-container-id-2 input.sk-toggleable__control:checked~label.sk-toggleable__label-arrow:before {content: \"▾\";}#sk-container-id-2 div.sk-estimator input.sk-toggleable__control:checked~label.sk-toggleable__label {background-color: #d4ebff;}#sk-container-id-2 div.sk-label input.sk-toggleable__control:checked~label.sk-toggleable__label {background-color: #d4ebff;}#sk-container-id-2 input.sk-hidden--visually {border: 0;clip: rect(1px 1px 1px 1px);clip: rect(1px, 1px, 1px, 1px);height: 1px;margin: -1px;overflow: hidden;padding: 0;position: absolute;width: 1px;}#sk-container-id-2 div.sk-estimator {font-family: monospace;background-color: #f0f8ff;border: 1px dotted black;border-radius: 0.25em;box-sizing: border-box;margin-bottom: 0.5em;}#sk-container-id-2 div.sk-estimator:hover {background-color: #d4ebff;}#sk-container-id-2 div.sk-parallel-item::after {content: \"\";width: 100%;border-bottom: 1px solid gray;flex-grow: 1;}#sk-container-id-2 div.sk-label:hover label.sk-toggleable__label {background-color: #d4ebff;}#sk-container-id-2 div.sk-serial::before {content: \"\";position: absolute;border-left: 1px solid gray;box-sizing: border-box;top: 0;bottom: 0;left: 50%;z-index: 0;}#sk-container-id-2 div.sk-serial {display: flex;flex-direction: column;align-items: center;background-color: white;padding-right: 0.2em;padding-left: 0.2em;position: relative;}#sk-container-id-2 div.sk-item {position: relative;z-index: 1;}#sk-container-id-2 div.sk-parallel {display: flex;align-items: stretch;justify-content: center;background-color: white;position: relative;}#sk-container-id-2 div.sk-item::before, #sk-container-id-2 div.sk-parallel-item::before {content: \"\";position: absolute;border-left: 1px solid gray;box-sizing: border-box;top: 0;bottom: 0;left: 50%;z-index: -1;}#sk-container-id-2 div.sk-parallel-item {display: flex;flex-direction: column;z-index: 1;position: relative;background-color: white;}#sk-container-id-2 div.sk-parallel-item:first-child::after {align-self: flex-end;width: 50%;}#sk-container-id-2 div.sk-parallel-item:last-child::after {align-self: flex-start;width: 50%;}#sk-container-id-2 div.sk-parallel-item:only-child::after {width: 0;}#sk-container-id-2 div.sk-dashed-wrapped {border: 1px dashed gray;margin: 0 0.4em 0.5em 0.4em;box-sizing: border-box;padding-bottom: 0.4em;background-color: white;}#sk-container-id-2 div.sk-label label {font-family: monospace;font-weight: bold;display: inline-block;line-height: 1.2em;}#sk-container-id-2 div.sk-label-container {text-align: center;}#sk-container-id-2 div.sk-container {/* jupyter's `normalize.less` sets `[hidden] { display: none; }` but bootstrap.min.css set `[hidden] { display: none !important; }` so we also need the `!important` here to be able to override the default hidden behavior on the sphinx rendered scikit-learn.org. See: https://github.com/scikit-learn/scikit-learn/issues/21755 */display: inline-block !important;position: relative;}#sk-container-id-2 div.sk-text-repr-fallback {display: none;}</style><div id=\"sk-container-id-2\" class=\"sk-top-container\"><div class=\"sk-text-repr-fallback\"><pre>RandomForestClassifier(oob_score=True)</pre><b>In a Jupyter environment, please rerun this cell to show the HTML representation or trust the notebook. <br />On GitHub, the HTML representation is unable to render, please try loading this page with nbviewer.org.</b></div><div class=\"sk-container\" hidden><div class=\"sk-item\"><div class=\"sk-estimator sk-toggleable\"><input class=\"sk-toggleable__control sk-hidden--visually\" id=\"sk-estimator-id-2\" type=\"checkbox\" checked><label for=\"sk-estimator-id-2\" class=\"sk-toggleable__label sk-toggleable__label-arrow\">RandomForestClassifier</label><div class=\"sk-toggleable__content\"><pre>RandomForestClassifier(oob_score=True)</pre></div></div></div></div></div>"
            ]
          },
          "metadata": {},
          "execution_count": 35
        }
      ]
    },
    {
      "cell_type": "code",
      "source": [
        "predictions = rf_model.predict(X_test_rf)"
      ],
      "metadata": {
        "colab": {
          "base_uri": "https://localhost:8080/",
          "height": 17
        },
        "id": "to5aOZ-3vSoV",
        "outputId": "76a5723e-4672-469a-ff80-ca2d828a2539"
      },
      "execution_count": 36,
      "outputs": [
        {
          "output_type": "display_data",
          "data": {
            "text/plain": [
              "<IPython.core.display.HTML object>"
            ],
            "text/html": [
              "\n",
              "            <style>\n",
              "                .geemap-dark {\n",
              "                    --jp-widgets-color: white;\n",
              "                    --jp-widgets-label-color: white;\n",
              "                    --jp-ui-font-color1: white;\n",
              "                    --jp-layout-color2: #454545;\n",
              "                    background-color: #383838;\n",
              "                }\n",
              "                    \n",
              "                .geemap-dark .jupyter-button {\n",
              "                    --jp-layout-color3: #383838;\n",
              "                }\n",
              "                \n",
              "                .geemap-colab {\n",
              "                    background-color: var(--colab-primary-surface-color, white);\n",
              "                }\n",
              "                    \n",
              "                .geemap-colab .jupyter-button {\n",
              "                    --jp-layout-color3: var(--colab-primary-surface-color, white);\n",
              "                }\n",
              "            </style>\n",
              "            "
            ]
          },
          "metadata": {}
        }
      ]
    },
    {
      "cell_type": "code",
      "source": [
        "from sklearn.metrics import accuracy_score\n",
        "\n",
        "# Calculate the accuracy\n",
        "accuracy = accuracy_score(y_test_rf, predictions)\n",
        "\n",
        "print(f\"Accuracy: {accuracy * 100:.2f}%\")"
      ],
      "metadata": {
        "colab": {
          "base_uri": "https://localhost:8080/",
          "height": 35
        },
        "id": "vWFjzAW3vxHM",
        "outputId": "52d8d547-c5db-45f8-da9c-9d2b31612bd2"
      },
      "execution_count": 37,
      "outputs": [
        {
          "output_type": "display_data",
          "data": {
            "text/plain": [
              "<IPython.core.display.HTML object>"
            ],
            "text/html": [
              "\n",
              "            <style>\n",
              "                .geemap-dark {\n",
              "                    --jp-widgets-color: white;\n",
              "                    --jp-widgets-label-color: white;\n",
              "                    --jp-ui-font-color1: white;\n",
              "                    --jp-layout-color2: #454545;\n",
              "                    background-color: #383838;\n",
              "                }\n",
              "                    \n",
              "                .geemap-dark .jupyter-button {\n",
              "                    --jp-layout-color3: #383838;\n",
              "                }\n",
              "                \n",
              "                .geemap-colab {\n",
              "                    background-color: var(--colab-primary-surface-color, white);\n",
              "                }\n",
              "                    \n",
              "                .geemap-colab .jupyter-button {\n",
              "                    --jp-layout-color3: var(--colab-primary-surface-color, white);\n",
              "                }\n",
              "            </style>\n",
              "            "
            ]
          },
          "metadata": {}
        },
        {
          "output_type": "stream",
          "name": "stdout",
          "text": [
            "Accuracy: 96.95%\n"
          ]
        }
      ]
    },
    {
      "cell_type": "code",
      "source": [
        "# Sample a random instance\n",
        "random_data = data.sample().drop(['class', 'Point ID'], axis=1)\n",
        "\n",
        "# Prepare the data\n",
        "random_data_array = random_data.values.reshape(1, -1)\n",
        "random_data_transformed = scaler.transform(random_data_array)  # Standardize the data if needed\n",
        "\n",
        "# Make a prediction\n",
        "prediction = rf_model.predict(random_data_transformed)\n",
        "\n",
        "print(f\"Predicted Class: {prediction[0]}\")\n",
        "\n",
        "# If you want to see the actual class (for verification)\n",
        "actual_class = data.loc[random_data.index, 'class'].values[0]\n",
        "print(f\"Actual Class: {actual_class}\")\n"
      ],
      "metadata": {
        "colab": {
          "base_uri": "https://localhost:8080/",
          "height": 53
        },
        "id": "TKpsuObUwNVR",
        "outputId": "2fe8e1bb-71da-4d47-86f3-1c6a9cbf708a"
      },
      "execution_count": 48,
      "outputs": [
        {
          "output_type": "display_data",
          "data": {
            "text/plain": [
              "<IPython.core.display.HTML object>"
            ],
            "text/html": [
              "\n",
              "            <style>\n",
              "                .geemap-dark {\n",
              "                    --jp-widgets-color: white;\n",
              "                    --jp-widgets-label-color: white;\n",
              "                    --jp-ui-font-color1: white;\n",
              "                    --jp-layout-color2: #454545;\n",
              "                    background-color: #383838;\n",
              "                }\n",
              "                    \n",
              "                .geemap-dark .jupyter-button {\n",
              "                    --jp-layout-color3: #383838;\n",
              "                }\n",
              "                \n",
              "                .geemap-colab {\n",
              "                    background-color: var(--colab-primary-surface-color, white);\n",
              "                }\n",
              "                    \n",
              "                .geemap-colab .jupyter-button {\n",
              "                    --jp-layout-color3: var(--colab-primary-surface-color, white);\n",
              "                }\n",
              "            </style>\n",
              "            "
            ]
          },
          "metadata": {}
        },
        {
          "output_type": "stream",
          "name": "stdout",
          "text": [
            "Predicted Class: 1\n",
            "Actual Class: 1\n"
          ]
        }
      ]
    },
    {
      "cell_type": "code",
      "source": [
        "import matplotlib.pyplot as plt\n",
        "import seaborn as sns\n",
        "\n",
        "# Get feature importances\n",
        "importances = rf_model.feature_importances_\n",
        "\n",
        "# Get the feature names (assuming they are the column names of the original data without 'class' and 'Point ID')\n",
        "feature_names = data.drop(['class', 'Point ID'], axis=1).columns\n",
        "\n",
        "# Create a DataFrame to hold the importances and feature names\n",
        "feature_importance_df = pd.DataFrame({\n",
        "    'Feature': feature_names,\n",
        "    'Importance': importances\n",
        "})\n",
        "\n",
        "# Sort the DataFrame by importance\n",
        "feature_importance_df = feature_importance_df.sort_values(by='Importance', ascending=False)\n",
        "\n",
        "# Plot the feature importances\n",
        "plt.figure(figsize=(12, 8))\n",
        "sns.barplot(x='Importance', y='Feature', data=feature_importance_df, color='skyblue')\n",
        "plt.title('Feature Importance from Random Forest')\n",
        "plt.show()\n"
      ],
      "metadata": {
        "colab": {
          "base_uri": "https://localhost:8080/",
          "height": 718
        },
        "id": "wRBgrKsYwp8L",
        "outputId": "9da1fcc7-a9c0-4fbc-b192-4efac16602b3"
      },
      "execution_count": 39,
      "outputs": [
        {
          "output_type": "display_data",
          "data": {
            "text/plain": [
              "<IPython.core.display.HTML object>"
            ],
            "text/html": [
              "\n",
              "            <style>\n",
              "                .geemap-dark {\n",
              "                    --jp-widgets-color: white;\n",
              "                    --jp-widgets-label-color: white;\n",
              "                    --jp-ui-font-color1: white;\n",
              "                    --jp-layout-color2: #454545;\n",
              "                    background-color: #383838;\n",
              "                }\n",
              "                    \n",
              "                .geemap-dark .jupyter-button {\n",
              "                    --jp-layout-color3: #383838;\n",
              "                }\n",
              "                \n",
              "                .geemap-colab {\n",
              "                    background-color: var(--colab-primary-surface-color, white);\n",
              "                }\n",
              "                    \n",
              "                .geemap-colab .jupyter-button {\n",
              "                    --jp-layout-color3: var(--colab-primary-surface-color, white);\n",
              "                }\n",
              "            </style>\n",
              "            "
            ]
          },
          "metadata": {}
        },
        {
          "output_type": "display_data",
          "data": {
            "text/plain": [
              "<Figure size 1200x800 with 1 Axes>"
            ],
            "image/png": "[encoded data removed]"
          },
          "metadata": {}
        }
      ]
    }
  ]
}